{
 "cells": [
  {
   "cell_type": "markdown",
   "metadata": {
    "deletable": false,
    "editable": false,
    "nbgrader": {
     "checksum": "4e714461c460b9dd75e28575ef4f1a4b",
     "grade": false,
     "grade_id": "cell-f83bb58b03292578",
     "locked": true,
     "schema_version": 1,
     "solution": false
    }
   },
   "source": [
    "# Week6 Assignment - Data retrieval and dataset preprocessing.\n",
    "\n",
    "For this assignment, you will need the iris flowers dataset available on the course website, under Week6 files. This is a dataset of 150 observations of flowers, with petal lengths and widths, and sepal lengths and widths.\n",
    "\n",
    "The basic goal of this assignment is to preprocess the iris dataset in preparation for a machine-learning algorithm.\n",
    "\n",
    "In the first component, you will load the dataset into a Pandas dataframe.\n",
    "\n",
    "In the second component, you will impute missing values in one of the columns. In this case, you will assign the average value in the column to the missing data points.\n",
    "\n",
    "In the third component, you will create two new columns that will approximate the sepal and petal sizes: One will equal the petal length multiplied by the petal width, and the other will equal the sepal length multiplied by the sepal width.\n",
    "\n",
    "In the fourth component, you will normalize the sepal and petal sizes.\n",
    "\n",
    "In the fifth component, you will add a column with a boolean value representing whether a flower belongs to the setosa species.\n",
    "\n",
    "All the exercises are designed so that the solutions will need only one or a few lines of code.\n",
    "\n",
    "Do not hesitate to contact instuctors and TA via #week6 channel on Slack if you get stuck. Join the channel first by clicking on Channels."
   ]
  },
  {
   "cell_type": "markdown",
   "metadata": {
    "deletable": false,
    "editable": false,
    "nbgrader": {
     "checksum": "3716bd2fa368564a743ec0720db7d48f",
     "grade": false,
     "grade_id": "cell-f6b1a85538f737d8",
     "locked": true,
     "schema_version": 1,
     "solution": false
    }
   },
   "source": [
    "## Part A. Read in the iris dataset. \n",
    "\n",
    "In this component you will read the iris dataset into a Pandas data frame. Make sure you download the iris.csv file from the course website. Do not download or load a different instance of the iris dataset: use the one from the course website as we have modified it for this exercise, and when we test your code we will test it against our version of the dataset. Also, do not manually modify the iris dataset.\n",
    "\n",
    "If you prefer to load the dataset by its URL, you can do that.\n",
    "\n",
    "Pay attention which directory you save the file to so that you can load it by its path.\n",
    "\n",
    "Once downloaded, use Pandas to read the file into a data frame.\n",
    "\n",
    "Save the data frame to a variable named iris_data."
   ]
  },
  {
   "cell_type": "code",
   "execution_count": 4,
   "metadata": {
    "deletable": false,
    "nbgrader": {
     "checksum": "3713eaa37f739bff72bd124b350a55a1",
     "grade": false,
     "grade_id": "cell-c1e7f79ad332b8f9",
     "locked": false,
     "schema_version": 1,
     "solution": true
    }
   },
   "outputs": [
    {
     "name": "stdout",
     "output_type": "stream",
     "text": [
      "   Id  SepalLengthCm  SepalWidthCm  PetalLengthCm  PetalWidthCm      Species\n",
      "0   1            5.1           3.5            1.4           0.2  Iris-setosa\n",
      "1   2            4.9           3.0            1.4           0.2  Iris-setosa\n",
      "2   3            4.7           3.2            1.3           0.2  Iris-setosa\n",
      "3   4            4.6           3.1            1.5           0.2  Iris-setosa\n",
      "4   5            5.0           3.6            1.4           0.2  Iris-setosa\n"
     ]
    }
   ],
   "source": [
    "import pandas as pd\n",
    "import numpy as np\n",
    "\n",
    "iris_raw_data = None\n",
    "\n",
    "# Load the iris dataset into a pandas dataframe\n",
    "# Make sure to save it as \"iris_data\"\n",
    "\n",
    "# YOUR CODE HERE\n",
    "iris_data = pd.read_csv('iris.csv', sep=\",\")\n",
    "\n",
    "\n",
    "# You can make sure you loaded it correctly by looking at its first few rows, using the .head() function\n",
    "print(iris_data.head())"
   ]
  },
  {
   "cell_type": "code",
   "execution_count": 5,
   "metadata": {},
   "outputs": [
    {
     "data": {
      "text/plain": [
       "Index(['Id', 'SepalLengthCm', 'SepalWidthCm', 'PetalLengthCm', 'PetalWidthCm',\n",
       "       'Species'],\n",
       "      dtype='object')"
      ]
     },
     "execution_count": 5,
     "metadata": {},
     "output_type": "execute_result"
    }
   ],
   "source": [
    "iris_data.columns\n"
   ]
  },
  {
   "cell_type": "code",
   "execution_count": 6,
   "metadata": {},
   "outputs": [
    {
     "data": {
      "text/html": [
       "<div>\n",
       "<style>\n",
       "    .dataframe thead tr:only-child th {\n",
       "        text-align: right;\n",
       "    }\n",
       "\n",
       "    .dataframe thead th {\n",
       "        text-align: left;\n",
       "    }\n",
       "\n",
       "    .dataframe tbody tr th {\n",
       "        vertical-align: top;\n",
       "    }\n",
       "</style>\n",
       "<table border=\"1\" class=\"dataframe\">\n",
       "  <thead>\n",
       "    <tr style=\"text-align: right;\">\n",
       "      <th></th>\n",
       "      <th>Id</th>\n",
       "      <th>SepalLengthCm</th>\n",
       "      <th>SepalWidthCm</th>\n",
       "      <th>PetalLengthCm</th>\n",
       "      <th>PetalWidthCm</th>\n",
       "      <th>Species</th>\n",
       "    </tr>\n",
       "  </thead>\n",
       "  <tbody>\n",
       "    <tr>\n",
       "      <th>145</th>\n",
       "      <td>146</td>\n",
       "      <td>6.7</td>\n",
       "      <td>3.0</td>\n",
       "      <td>5.2</td>\n",
       "      <td>2.3</td>\n",
       "      <td>Iris-virginica</td>\n",
       "    </tr>\n",
       "    <tr>\n",
       "      <th>146</th>\n",
       "      <td>147</td>\n",
       "      <td>6.3</td>\n",
       "      <td>2.5</td>\n",
       "      <td>5.0</td>\n",
       "      <td>1.9</td>\n",
       "      <td>Iris-virginica</td>\n",
       "    </tr>\n",
       "    <tr>\n",
       "      <th>147</th>\n",
       "      <td>148</td>\n",
       "      <td>6.5</td>\n",
       "      <td>3.0</td>\n",
       "      <td>5.2</td>\n",
       "      <td>2.0</td>\n",
       "      <td>Iris-virginica</td>\n",
       "    </tr>\n",
       "    <tr>\n",
       "      <th>148</th>\n",
       "      <td>149</td>\n",
       "      <td>6.2</td>\n",
       "      <td>3.4</td>\n",
       "      <td>5.4</td>\n",
       "      <td>2.3</td>\n",
       "      <td>Iris-virginica</td>\n",
       "    </tr>\n",
       "    <tr>\n",
       "      <th>149</th>\n",
       "      <td>150</td>\n",
       "      <td>5.9</td>\n",
       "      <td>3.0</td>\n",
       "      <td>5.1</td>\n",
       "      <td>1.8</td>\n",
       "      <td>Iris-virginica</td>\n",
       "    </tr>\n",
       "  </tbody>\n",
       "</table>\n",
       "</div>"
      ],
      "text/plain": [
       "      Id  SepalLengthCm  SepalWidthCm  PetalLengthCm  PetalWidthCm  \\\n",
       "145  146            6.7           3.0            5.2           2.3   \n",
       "146  147            6.3           2.5            5.0           1.9   \n",
       "147  148            6.5           3.0            5.2           2.0   \n",
       "148  149            6.2           3.4            5.4           2.3   \n",
       "149  150            5.9           3.0            5.1           1.8   \n",
       "\n",
       "            Species  \n",
       "145  Iris-virginica  \n",
       "146  Iris-virginica  \n",
       "147  Iris-virginica  \n",
       "148  Iris-virginica  \n",
       "149  Iris-virginica  "
      ]
     },
     "execution_count": 6,
     "metadata": {},
     "output_type": "execute_result"
    }
   ],
   "source": [
    "\n",
    "iris_data.tail()"
   ]
  },
  {
   "cell_type": "code",
   "execution_count": 7,
   "metadata": {},
   "outputs": [
    {
     "data": {
      "text/plain": [
       "Id               0\n",
       "SepalLengthCm    0\n",
       "SepalWidthCm     0\n",
       "PetalLengthCm    7\n",
       "PetalWidthCm     0\n",
       "Species          0\n",
       "dtype: int64"
      ]
     },
     "execution_count": 7,
     "metadata": {},
     "output_type": "execute_result"
    }
   ],
   "source": [
    "iris_data.isnull().sum()"
   ]
  },
  {
   "cell_type": "code",
   "execution_count": 8,
   "metadata": {
    "collapsed": true,
    "deletable": false,
    "editable": false,
    "nbgrader": {
     "checksum": "0e2841e2b40deab458969ba9b4da0d03",
     "grade": true,
     "grade_id": "cell-fd50146eeead0c65",
     "locked": true,
     "points": 1,
     "schema_version": 1,
     "solution": false
    }
   },
   "outputs": [],
   "source": [
    "assert isinstance(iris_data, pd.core.frame.DataFrame)\n",
    "assert iris_data.shape == (150, 6)\n",
    "assert iris_data[\"SepalLengthCm\"].mean() == 5.815333333333334\n",
    "assert iris_data.isnull().sum().sum() == 7\n",
    "assert iris_data.isnull().values.any()"
   ]
  },
  {
   "cell_type": "markdown",
   "metadata": {},
   "source": [
    "## Part B. Impute missing data.\n",
    "\n",
    "Unfortunately it appears that there are some missing data points in the PetalLengthCm column.\n",
    "\n",
    "To resolve this, write a function that can find the mean of the PetalLengthCm column and replace the missing data points in the PetalLengthCm column with this mean.\n",
    "\n",
    "The function takes as input a Pandas data frame and a column name. The function will return a new Pandas data frame, with the missing data points replaced with the column mean.\n",
    "\n",
    "Run the function on the iris_data data frame and save the new data frame in the same variable (iris_data)."
   ]
  },
  {
   "cell_type": "code",
   "execution_count": 13,
   "metadata": {
    "collapsed": true,
    "deletable": false,
    "nbgrader": {
     "checksum": "f5742eab39f42a9d03d8859d9ad2c23e",
     "grade": false,
     "grade_id": "cell-bc8ce57a60e5fd7a",
     "locked": false,
     "schema_version": 1,
     "solution": true
    }
   },
   "outputs": [],
   "source": [
    "def impute_with_mean(df, column_name):\n",
    "    \"\"\"\n",
    "    Accepts a Pandas data frame and a column name as input.\n",
    "    \n",
    "    Returns a new Pandas data frame with missing data points in the column\n",
    "    replaced with the mean value for that column.\n",
    "    \"\"\"\n",
    "    # YOUR CODE HERE\n",
    "    column_name = df\n",
    "    return column_name.fillna(column_name.mean())\n",
    "    \n",
    "                               \n",
    "# Let's impute in our data frame\n",
    "iris_data = impute_with_mean(iris_data, \"PetalLengthCm\")"
   ]
  },
  {
   "cell_type": "code",
   "execution_count": null,
   "metadata": {
    "collapsed": true
   },
   "outputs": [],
   "source": []
  },
  {
   "cell_type": "code",
   "execution_count": 14,
   "metadata": {
    "collapsed": true,
    "deletable": false,
    "editable": false,
    "nbgrader": {
     "checksum": "23246c3e4ddef407c89012560c17d650",
     "grade": true,
     "grade_id": "cell-165c467d2a6e7dde",
     "locked": true,
     "points": 1,
     "schema_version": 1,
     "solution": false
    }
   },
   "outputs": [],
   "source": [
    "assert not iris_data.isnull().values.any()\n",
    "assert iris_data[\"PetalLengthCm\"].median() == 4.25\n",
    "assert iris_data.equals(impute_with_mean(iris_data, \"SepalLengthCm\"))"
   ]
  },
  {
   "cell_type": "markdown",
   "metadata": {},
   "source": [
    "\n",
    "## Part C. Approximate full sizes.\n",
    "\n",
    "In this component you will create two new columns that approximate the sepal and petal sizes.\n",
    "\n",
    "The first new column will be named sepal_size and will be equal to: SepalLengthCm \\* SepalWidthCm\n",
    "\n",
    "The second new column will be named petal_size and will be equal to: PetalLengthCm \\* PetalWidthCm\n",
    "\n",
    "Add the appropriate columns below."
   ]
  },
  {
   "cell_type": "code",
   "execution_count": 15,
   "metadata": {
    "deletable": false,
    "nbgrader": {
     "checksum": "e81523194196443693048bde91cd4b33",
     "grade": false,
     "grade_id": "cell-8d46731c6bc218b6",
     "locked": false,
     "schema_version": 1,
     "solution": true
    }
   },
   "outputs": [
    {
     "data": {
      "text/html": [
       "<div>\n",
       "<style>\n",
       "    .dataframe thead tr:only-child th {\n",
       "        text-align: right;\n",
       "    }\n",
       "\n",
       "    .dataframe thead th {\n",
       "        text-align: left;\n",
       "    }\n",
       "\n",
       "    .dataframe tbody tr th {\n",
       "        vertical-align: top;\n",
       "    }\n",
       "</style>\n",
       "<table border=\"1\" class=\"dataframe\">\n",
       "  <thead>\n",
       "    <tr style=\"text-align: right;\">\n",
       "      <th></th>\n",
       "      <th>Id</th>\n",
       "      <th>SepalLengthCm</th>\n",
       "      <th>SepalWidthCm</th>\n",
       "      <th>PetalLengthCm</th>\n",
       "      <th>PetalWidthCm</th>\n",
       "      <th>Species</th>\n",
       "      <th>sepal_size</th>\n",
       "      <th>petal_size</th>\n",
       "    </tr>\n",
       "  </thead>\n",
       "  <tbody>\n",
       "    <tr>\n",
       "      <th>0</th>\n",
       "      <td>1</td>\n",
       "      <td>5.1</td>\n",
       "      <td>3.5</td>\n",
       "      <td>1.4</td>\n",
       "      <td>0.2</td>\n",
       "      <td>Iris-setosa</td>\n",
       "      <td>17.85</td>\n",
       "      <td>1.96</td>\n",
       "    </tr>\n",
       "    <tr>\n",
       "      <th>1</th>\n",
       "      <td>2</td>\n",
       "      <td>4.9</td>\n",
       "      <td>3.0</td>\n",
       "      <td>1.4</td>\n",
       "      <td>0.2</td>\n",
       "      <td>Iris-setosa</td>\n",
       "      <td>14.70</td>\n",
       "      <td>1.96</td>\n",
       "    </tr>\n",
       "    <tr>\n",
       "      <th>2</th>\n",
       "      <td>3</td>\n",
       "      <td>4.7</td>\n",
       "      <td>3.2</td>\n",
       "      <td>1.3</td>\n",
       "      <td>0.2</td>\n",
       "      <td>Iris-setosa</td>\n",
       "      <td>15.04</td>\n",
       "      <td>1.69</td>\n",
       "    </tr>\n",
       "    <tr>\n",
       "      <th>3</th>\n",
       "      <td>4</td>\n",
       "      <td>4.6</td>\n",
       "      <td>3.1</td>\n",
       "      <td>1.5</td>\n",
       "      <td>0.2</td>\n",
       "      <td>Iris-setosa</td>\n",
       "      <td>14.26</td>\n",
       "      <td>2.25</td>\n",
       "    </tr>\n",
       "    <tr>\n",
       "      <th>4</th>\n",
       "      <td>5</td>\n",
       "      <td>5.0</td>\n",
       "      <td>3.6</td>\n",
       "      <td>1.4</td>\n",
       "      <td>0.2</td>\n",
       "      <td>Iris-setosa</td>\n",
       "      <td>18.00</td>\n",
       "      <td>1.96</td>\n",
       "    </tr>\n",
       "  </tbody>\n",
       "</table>\n",
       "</div>"
      ],
      "text/plain": [
       "   Id  SepalLengthCm  SepalWidthCm  PetalLengthCm  PetalWidthCm      Species  \\\n",
       "0   1            5.1           3.5            1.4           0.2  Iris-setosa   \n",
       "1   2            4.9           3.0            1.4           0.2  Iris-setosa   \n",
       "2   3            4.7           3.2            1.3           0.2  Iris-setosa   \n",
       "3   4            4.6           3.1            1.5           0.2  Iris-setosa   \n",
       "4   5            5.0           3.6            1.4           0.2  Iris-setosa   \n",
       "\n",
       "   sepal_size  petal_size  \n",
       "0       17.85        1.96  \n",
       "1       14.70        1.96  \n",
       "2       15.04        1.69  \n",
       "3       14.26        2.25  \n",
       "4       18.00        1.96  "
      ]
     },
     "execution_count": 15,
     "metadata": {},
     "output_type": "execute_result"
    }
   ],
   "source": [
    "# YOUR CODE HERE\n",
    "SepalLengthCm = iris_data[\"SepalLengthCm\"]\n",
    "PetalLengthCm = iris_data[\"PetalLengthCm\"]\n",
    "SepalWidthCm =iris_data[\"SepalWidthCm\"]\n",
    "PetalWidthCm = iris_data[\"PetalLengthCm\"]\n",
    "\n",
    "iris_data[\"sepal_size\"] = SepalLengthCm * SepalWidthCm\n",
    "iris_data[\"petal_size\"] = PetalLengthCm * PetalWidthCm\n",
    "\n",
    "\n",
    "iris_data.head()\n",
    "\n"
   ]
  },
  {
   "cell_type": "code",
   "execution_count": 16,
   "metadata": {
    "deletable": false,
    "editable": false,
    "nbgrader": {
     "checksum": "c690b30192f21c2483c25f5a2de5169a",
     "grade": true,
     "grade_id": "cell-c7edebc7b2cd1c7b",
     "locked": true,
     "points": 1,
     "schema_version": 1,
     "solution": false
    }
   },
   "outputs": [
    {
     "ename": "AssertionError",
     "evalue": "",
     "output_type": "error",
     "traceback": [
      "\u001b[1;31m---------------------------------------------------------------------------\u001b[0m",
      "\u001b[1;31mAssertionError\u001b[0m                            Traceback (most recent call last)",
      "\u001b[1;32m<ipython-input-16-cdc0ff097af6>\u001b[0m in \u001b[0;36m<module>\u001b[1;34m()\u001b[0m\n\u001b[0;32m      2\u001b[0m \u001b[1;32massert\u001b[0m \u001b[1;34m\"sepal_size\"\u001b[0m \u001b[1;32min\u001b[0m \u001b[0miris_data\u001b[0m\u001b[1;33m.\u001b[0m\u001b[0mcolumns\u001b[0m\u001b[1;33m\u001b[0m\u001b[0m\n\u001b[0;32m      3\u001b[0m \u001b[1;32massert\u001b[0m \u001b[1;34m\"petal_size\"\u001b[0m \u001b[1;32min\u001b[0m \u001b[0miris_data\u001b[0m\u001b[1;33m.\u001b[0m\u001b[0mcolumns\u001b[0m\u001b[1;33m\u001b[0m\u001b[0m\n\u001b[1;32m----> 4\u001b[1;33m \u001b[1;32massert\u001b[0m \u001b[0miris_data\u001b[0m\u001b[1;33m[\u001b[0m\u001b[1;34m\"petal_size\"\u001b[0m\u001b[1;33m]\u001b[0m\u001b[1;33m.\u001b[0m\u001b[0msum\u001b[0m\u001b[1;33m(\u001b[0m\u001b[1;33m)\u001b[0m \u001b[1;33m==\u001b[0m \u001b[1;36m868.162937062937\u001b[0m\u001b[1;33m\u001b[0m\u001b[0m\n\u001b[0m\u001b[0;32m      5\u001b[0m \u001b[1;32massert\u001b[0m \u001b[0miris_data\u001b[0m\u001b[1;33m[\u001b[0m\u001b[1;34m\"sepal_size\"\u001b[0m\u001b[1;33m]\u001b[0m\u001b[1;33m.\u001b[0m\u001b[0msum\u001b[0m\u001b[1;33m(\u001b[0m\u001b[1;33m)\u001b[0m \u001b[1;33m==\u001b[0m \u001b[1;36m2656.15\u001b[0m\u001b[1;33m\u001b[0m\u001b[0m\n",
      "\u001b[1;31mAssertionError\u001b[0m: "
     ]
    }
   ],
   "source": [
    "assert iris_data.shape == (150, 8)\n",
    "assert \"sepal_size\" in iris_data.columns\n",
    "assert \"petal_size\" in iris_data.columns\n",
    "assert iris_data[\"petal_size\"].sum() == 868.162937062937\n",
    "assert iris_data[\"sepal_size\"].sum() == 2656.15"
   ]
  },
  {
   "cell_type": "markdown",
   "metadata": {},
   "source": [
    "## Part D. Normalize sizes.\n",
    "\n",
    "For some machine-learning algorithms, we need to normalize data. This is generally done so that different features are on the same scales.\n",
    "\n",
    "In our case, sepal_size and petal_size are on different scales. Normalize them by subtracting the mean from each and dividing by the standard deviation. You can do this manually if you prefer, or you can use the scale function from sklearn.preprocessing.\n",
    "\n",
    "Note: If you do this manually, make sure to set the standard deviation to 0 degrees of freedom (ddof=0).\n",
    "\n",
    "Since you need to perform this operation twice, you may consider writing a function to handle this, though that is not a requirement.\n",
    "\n",
    "Save the new columns as: sepal_size_normalized, petal_size_normalized"
   ]
  },
  {
   "cell_type": "code",
   "execution_count": 17,
   "metadata": {
    "deletable": false,
    "nbgrader": {
     "checksum": "c0b6c90427260d6e4727b474d52689bf",
     "grade": false,
     "grade_id": "cell-377e7ae405383f99",
     "locked": false,
     "schema_version": 1,
     "solution": true
    }
   },
   "outputs": [],
   "source": [
    "# YOUR CODE HERE\n",
    "from sklearn.preprocessing import scale\n",
    "scaled_size =pd.Series(scale(iris_data.sepal_size))\n",
    "scaled_size =pd.Series(scale(iris_data.petal_size))\n",
    "scaled_size.std(ddof=0)\n",
    "\n",
    "iris_data[\"sepal_size_normalized\"] = scaled_size\n",
    "iris_data[\"petal_size_normalized\"] = scaled_size\n"
   ]
  },
  {
   "cell_type": "code",
   "execution_count": 18,
   "metadata": {
    "collapsed": true,
    "deletable": false,
    "editable": false,
    "nbgrader": {
     "checksum": "f9aa3c9862b569f25dd652121635240e",
     "grade": true,
     "grade_id": "cell-fd44161086b39a45",
     "locked": true,
     "points": 1,
     "schema_version": 1,
     "solution": false
    }
   },
   "outputs": [],
   "source": [
    "assert np.isclose(iris_data[\"petal_size_normalized\"].mean(), 0)\n",
    "assert np.isclose(iris_data[\"petal_size_normalized\"].std(ddof=0), 1)\n",
    "assert np.isclose(iris_data[\"sepal_size_normalized\"].mean(), 0)\n",
    "assert np.isclose(iris_data[\"sepal_size_normalized\"].std(ddof=0), 1)"
   ]
  },
  {
   "cell_type": "markdown",
   "metadata": {},
   "source": [
    "## Part E. Add a boolean column.\n",
    "\n",
    "We are specifically interested in whether a given flower is from the setosa species.\n",
    "\n",
    "Add a column \"is_setosa\" to the data frame, that is true if we are dealing with a setosa and false otherwise."
   ]
  },
  {
   "cell_type": "code",
   "execution_count": 25,
   "metadata": {
    "deletable": false,
    "nbgrader": {
     "checksum": "cc73112d32cf912483a76558595d8dd6",
     "grade": false,
     "grade_id": "cell-75001ba281dc95cc",
     "locked": false,
     "schema_version": 1,
     "solution": true
    }
   },
   "outputs": [
    {
     "data": {
      "text/html": [
       "<div>\n",
       "<style>\n",
       "    .dataframe thead tr:only-child th {\n",
       "        text-align: right;\n",
       "    }\n",
       "\n",
       "    .dataframe thead th {\n",
       "        text-align: left;\n",
       "    }\n",
       "\n",
       "    .dataframe tbody tr th {\n",
       "        vertical-align: top;\n",
       "    }\n",
       "</style>\n",
       "<table border=\"1\" class=\"dataframe\">\n",
       "  <thead>\n",
       "    <tr style=\"text-align: right;\">\n",
       "      <th></th>\n",
       "      <th>Id</th>\n",
       "      <th>SepalLengthCm</th>\n",
       "      <th>SepalWidthCm</th>\n",
       "      <th>PetalLengthCm</th>\n",
       "      <th>PetalWidthCm</th>\n",
       "      <th>Species</th>\n",
       "      <th>sepal_size</th>\n",
       "      <th>petal_size</th>\n",
       "      <th>sepal_size_normalized</th>\n",
       "      <th>petal_size_normalized</th>\n",
       "      <th>is_setosa</th>\n",
       "      <th>is_setosa_bool</th>\n",
       "    </tr>\n",
       "  </thead>\n",
       "  <tbody>\n",
       "    <tr>\n",
       "      <th>0</th>\n",
       "      <td>1</td>\n",
       "      <td>5.1</td>\n",
       "      <td>3.5</td>\n",
       "      <td>1.4</td>\n",
       "      <td>0.2</td>\n",
       "      <td>Iris-setosa</td>\n",
       "      <td>17.85</td>\n",
       "      <td>1.96</td>\n",
       "      <td>-1.257091</td>\n",
       "      <td>-1.257091</td>\n",
       "      <td>Iris-setosa</td>\n",
       "      <td>False</td>\n",
       "    </tr>\n",
       "    <tr>\n",
       "      <th>1</th>\n",
       "      <td>2</td>\n",
       "      <td>4.9</td>\n",
       "      <td>3.0</td>\n",
       "      <td>1.4</td>\n",
       "      <td>0.2</td>\n",
       "      <td>Iris-setosa</td>\n",
       "      <td>14.70</td>\n",
       "      <td>1.96</td>\n",
       "      <td>-1.257091</td>\n",
       "      <td>-1.257091</td>\n",
       "      <td>Iris-setosa</td>\n",
       "      <td>False</td>\n",
       "    </tr>\n",
       "    <tr>\n",
       "      <th>2</th>\n",
       "      <td>3</td>\n",
       "      <td>4.7</td>\n",
       "      <td>3.2</td>\n",
       "      <td>1.3</td>\n",
       "      <td>0.2</td>\n",
       "      <td>Iris-setosa</td>\n",
       "      <td>15.04</td>\n",
       "      <td>1.69</td>\n",
       "      <td>-1.279002</td>\n",
       "      <td>-1.279002</td>\n",
       "      <td>Iris-setosa</td>\n",
       "      <td>False</td>\n",
       "    </tr>\n",
       "    <tr>\n",
       "      <th>3</th>\n",
       "      <td>4</td>\n",
       "      <td>4.6</td>\n",
       "      <td>3.1</td>\n",
       "      <td>1.5</td>\n",
       "      <td>0.2</td>\n",
       "      <td>Iris-setosa</td>\n",
       "      <td>14.26</td>\n",
       "      <td>2.25</td>\n",
       "      <td>-1.233558</td>\n",
       "      <td>-1.233558</td>\n",
       "      <td>Iris-setosa</td>\n",
       "      <td>False</td>\n",
       "    </tr>\n",
       "    <tr>\n",
       "      <th>4</th>\n",
       "      <td>5</td>\n",
       "      <td>5.0</td>\n",
       "      <td>3.6</td>\n",
       "      <td>1.4</td>\n",
       "      <td>0.2</td>\n",
       "      <td>Iris-setosa</td>\n",
       "      <td>18.00</td>\n",
       "      <td>1.96</td>\n",
       "      <td>-1.257091</td>\n",
       "      <td>-1.257091</td>\n",
       "      <td>Iris-setosa</td>\n",
       "      <td>False</td>\n",
       "    </tr>\n",
       "  </tbody>\n",
       "</table>\n",
       "</div>"
      ],
      "text/plain": [
       "   Id  SepalLengthCm  SepalWidthCm  PetalLengthCm  PetalWidthCm      Species  \\\n",
       "0   1            5.1           3.5            1.4           0.2  Iris-setosa   \n",
       "1   2            4.9           3.0            1.4           0.2  Iris-setosa   \n",
       "2   3            4.7           3.2            1.3           0.2  Iris-setosa   \n",
       "3   4            4.6           3.1            1.5           0.2  Iris-setosa   \n",
       "4   5            5.0           3.6            1.4           0.2  Iris-setosa   \n",
       "\n",
       "   sepal_size  petal_size  sepal_size_normalized  petal_size_normalized  \\\n",
       "0       17.85        1.96              -1.257091              -1.257091   \n",
       "1       14.70        1.96              -1.257091              -1.257091   \n",
       "2       15.04        1.69              -1.279002              -1.279002   \n",
       "3       14.26        2.25              -1.233558              -1.233558   \n",
       "4       18.00        1.96              -1.257091              -1.257091   \n",
       "\n",
       "     is_setosa  is_setosa_bool  \n",
       "0  Iris-setosa           False  \n",
       "1  Iris-setosa           False  \n",
       "2  Iris-setosa           False  \n",
       "3  Iris-setosa           False  \n",
       "4  Iris-setosa           False  "
      ]
     },
     "execution_count": 25,
     "metadata": {},
     "output_type": "execute_result"
    }
   ],
   "source": [
    "# YOUR CODE HERE\n",
    "\n",
    "iris_data[\"is_setosa\"] =iris_data[\"Species\"]\n",
    "iris_data[\"is_setosa_bool\"] = iris_data[\"is_setosa\"] == \"Y\"\n",
    "iris_data.head()\n"
   ]
  },
  {
   "cell_type": "code",
   "execution_count": 26,
   "metadata": {
    "deletable": false,
    "editable": false,
    "nbgrader": {
     "checksum": "1a52213d0c9a78ddf30e3b3d2f76ee76",
     "grade": true,
     "grade_id": "cell-b7846271cdcb45c0",
     "locked": true,
     "points": 1,
     "schema_version": 1,
     "solution": false
    }
   },
   "outputs": [
    {
     "ename": "TypeError",
     "evalue": "unsupported operand type(s) for +: 'int' and 'str'",
     "output_type": "error",
     "traceback": [
      "\u001b[1;31m---------------------------------------------------------------------------\u001b[0m",
      "\u001b[1;31mTypeError\u001b[0m                                 Traceback (most recent call last)",
      "\u001b[1;32m<ipython-input-26-1a4595b8511d>\u001b[0m in \u001b[0;36m<module>\u001b[1;34m()\u001b[0m\n\u001b[1;32m----> 1\u001b[1;33m \u001b[1;32massert\u001b[0m \u001b[0msum\u001b[0m\u001b[1;33m(\u001b[0m\u001b[0miris_data\u001b[0m\u001b[1;33m[\u001b[0m\u001b[1;34m\"is_setosa\"\u001b[0m\u001b[1;33m]\u001b[0m\u001b[1;33m)\u001b[0m \u001b[1;33m==\u001b[0m \u001b[1;36m50\u001b[0m\u001b[1;33m\u001b[0m\u001b[0m\n\u001b[0m\u001b[0;32m      2\u001b[0m \u001b[1;32massert\u001b[0m \u001b[0miris_data\u001b[0m\u001b[1;33m.\u001b[0m\u001b[0mloc\u001b[0m\u001b[1;33m[\u001b[0m\u001b[0miris_data\u001b[0m\u001b[1;33m[\u001b[0m\u001b[1;34m\"Species\"\u001b[0m\u001b[1;33m]\u001b[0m \u001b[1;33m==\u001b[0m \u001b[1;34m\"Iris-setosa\"\u001b[0m\u001b[1;33m,\u001b[0m \u001b[1;34m\"is_setosa\"\u001b[0m\u001b[1;33m]\u001b[0m\u001b[1;33m.\u001b[0m\u001b[0mall\u001b[0m\u001b[1;33m(\u001b[0m\u001b[1;33m)\u001b[0m\u001b[1;33m\u001b[0m\u001b[0m\n\u001b[0;32m      3\u001b[0m \u001b[1;32massert\u001b[0m \u001b[0miris_data\u001b[0m\u001b[1;33m[\u001b[0m\u001b[1;34m\"is_setosa\"\u001b[0m\u001b[1;33m]\u001b[0m\u001b[1;33m.\u001b[0m\u001b[0mdtype\u001b[0m \u001b[1;33m==\u001b[0m \u001b[1;34m\"bool\"\u001b[0m\u001b[1;33m\u001b[0m\u001b[0m\n",
      "\u001b[1;31mTypeError\u001b[0m: unsupported operand type(s) for +: 'int' and 'str'"
     ]
    }
   ],
   "source": [
    "assert sum(iris_data[\"is_setosa\"]) == 50\n",
    "assert iris_data.loc[iris_data[\"Species\"] == \"Iris-setosa\", \"is_setosa\"].all()\n",
    "assert iris_data[\"is_setosa\"].dtype == \"bool\""
   ]
  },
  {
   "cell_type": "code",
   "execution_count": null,
   "metadata": {
    "collapsed": true
   },
   "outputs": [],
   "source": []
  },
  {
   "cell_type": "code",
   "execution_count": null,
   "metadata": {
    "collapsed": true
   },
   "outputs": [],
   "source": []
  }
 ],
 "metadata": {
  "kernelspec": {
   "display_name": "Python 3",
   "language": "python",
   "name": "python3"
  },
  "language_info": {
   "codemirror_mode": {
    "name": "ipython",
    "version": 3
   },
   "file_extension": ".py",
   "mimetype": "text/x-python",
   "name": "python",
   "nbconvert_exporter": "python",
   "pygments_lexer": "ipython3",
   "version": "3.6.1"
  }
 },
 "nbformat": 4,
 "nbformat_minor": 2
}
